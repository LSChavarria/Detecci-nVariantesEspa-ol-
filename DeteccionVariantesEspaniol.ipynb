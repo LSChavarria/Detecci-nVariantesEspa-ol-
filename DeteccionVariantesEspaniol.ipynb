{
  "nbformat": 4,
  "nbformat_minor": 0,
  "metadata": {
    "colab": {
      "name": "IAP_Proyecto_final_Equipo_2.ipynb",
      "provenance": [],
      "collapsed_sections": [],
      "toc_visible": true
    },
    "kernelspec": {
      "name": "python3",
      "display_name": "Python 3"
    },
    "language_info": {
      "name": "python"
    },
    "accelerator": "GPU"
  },
  "cells": [
    {
      "cell_type": "markdown",
      "metadata": {
        "id": "E82HEpYeLIbj"
      },
      "source": [
        "Dataset: https://drive.google.com/drive/folders/1v2byG9D1AcgL5x5YpAGPKU4naKfCTJJs?usp=sharing"
      ]
    },
    {
      "cell_type": "code",
      "metadata": {
        "colab": {
          "base_uri": "https://localhost:8080/"
        },
        "id": "WL3J2kRlil0B",
        "outputId": "01558519-c51c-434a-fb8c-89d5d002d2fe"
      },
      "source": [
        "from google.colab import drive\n",
        "drive.mount('/content/drive')"
      ],
      "execution_count": null,
      "outputs": [
        {
          "output_type": "stream",
          "text": [
            "Drive already mounted at /content/drive; to attempt to forcibly remount, call drive.mount(\"/content/drive\", force_remount=True).\n"
          ],
          "name": "stdout"
        }
      ]
    },
    {
      "cell_type": "code",
      "metadata": {
        "id": "JIi8ryfGTMw8",
        "colab": {
          "base_uri": "https://localhost:8080/"
        },
        "outputId": "b28adf0e-38d6-4d19-ee20-975794967978"
      },
      "source": [
        "#PIA\n",
        "import os\n",
        "import csv\n",
        "import pandas as pd\n",
        "import numpy as np\n",
        "import matplotlib.pyplot as plt\n",
        "from sklearn.feature_extraction.text import CountVectorizer\n",
        "from tensorflow.keras.preprocessing.text import Tokenizer\n",
        "from tensorflow.keras.preprocessing.sequence import pad_sequences\n",
        "from tensorflow.keras.models import Sequential\n",
        "from tensorflow.keras.layers import Dense, Embedding, LSTM, SpatialDropout1D, GlobalAveragePooling1D, Bidirectional\n",
        "from keras.models import load_model\n",
        "from sklearn.model_selection import train_test_split\n",
        "from tensorflow.keras.utils import to_categorical\n",
        "from sklearn.model_selection import train_test_split\n",
        "import re\n",
        "import nltk\n",
        "nltk.download('stopwords')\n",
        "from nltk.corpus import stopwords\n",
        "\n",
        "STOPWORDS = set(stopwords.words('spanish'))"
      ],
      "execution_count": null,
      "outputs": [
        {
          "output_type": "stream",
          "text": [
            "[nltk_data] Downloading package stopwords to /root/nltk_data...\n",
            "[nltk_data]   Unzipping corpora/stopwords.zip.\n"
          ],
          "name": "stdout"
        }
      ]
    },
    {
      "cell_type": "markdown",
      "metadata": {
        "id": "noyIcRfslGcb"
      },
      "source": [
        "### Funciones de preproceso"
      ]
    },
    {
      "cell_type": "code",
      "metadata": {
        "id": "7fEjQvUQkaYR"
      },
      "source": [
        "# Función para quitar guiones bajos y acentos\n",
        "def replace_characters(texts):\n",
        "  texts = texts.replace(r\"_\", \" \", regex=True)\n",
        "  texts = texts.replace(r\"á\", \"a\", regex=True)\n",
        "  texts = texts.replace(r\"é\", \"e\", regex=True)\n",
        "  texts = texts.replace(r\"í\", \"i\", regex=True)\n",
        "  texts = texts.replace(r\"ó\", \"o\", regex=True)\n",
        "  texts = texts.replace(r\"ú\", \"u\", regex=True)\n",
        "  return texts"
      ],
      "execution_count": null,
      "outputs": []
    },
    {
      "cell_type": "code",
      "metadata": {
        "id": "5Ru9dY0aoyAh"
      },
      "source": [
        "# Función para eliminar las Stopwords\n",
        "def replace_stopwords(test_sentences, stopword = STOPWORDS):\n",
        "  replaced_sentences = []\n",
        "  for row in test_sentences:\n",
        "      article = row\n",
        "      for word in stopword:\n",
        "          token = ' ' + word + ' '\n",
        "          article = article.replace(token, ' ')\n",
        "      replaced_sentences.append(article)\n",
        "  return replaced_sentences"
      ],
      "execution_count": null,
      "outputs": []
    },
    {
      "cell_type": "code",
      "metadata": {
        "id": "xpAtdZnroL7i"
      },
      "source": [
        "# Obtener las palabras repetidas en los 5 paises\n",
        "\n",
        "#Tokenizer unico para cada pais usando en get_stopwords_paises\n",
        "def tokenizer_word_index(country_texts):\n",
        "  max_features = 1000\n",
        "  tokenizer = Tokenizer(num_words=max_features, split=' ', oov_token = \"<OOV>\")\n",
        "  tokenizer.fit_on_texts(country_texts)\n",
        "  word_index = tokenizer.word_index\n",
        "  return word_index\n",
        "\n",
        "def get_stopwords_paises(dataframe):\n",
        "  country_list = dataframe[\"country\"].unique()\n",
        "  list_tokenizer = {}\n",
        "  for country in country_list:\n",
        "    tok = tokenizer_word_index(dataframe[dataframe[\"country\"] == country][\"text_new\"].values)\n",
        "    list_tokenizer[country] = tok\n",
        "\n",
        "  contWord = {}\n",
        "  for country in list_tokenizer:\n",
        "    for i in list_tokenizer[country]:\n",
        "      try:\n",
        "        contWord[i] = contWord[i] + 1\n",
        "      except:\n",
        "        contWord[i] = 1\n",
        "\n",
        "  new_stopword = []\n",
        "  for word in contWord:\n",
        "    if contWord[word] == 4:\n",
        "      new_stopword.append(word)\n",
        "  \n",
        "  return new_stopword"
      ],
      "execution_count": null,
      "outputs": []
    },
    {
      "cell_type": "code",
      "metadata": {
        "id": "_POfihUj0r2k"
      },
      "source": [
        "#Función para graficar\n",
        "def plot_graphs(history, string):\n",
        "  plt.plot(history.history[string])\n",
        "  plt.plot(history.history['val_'+string])\n",
        "  plt.xlabel(\"Epochs\")\n",
        "  plt.ylabel(string)\n",
        "  plt.legend([string, 'val_'+string])\n",
        "  plt.show()"
      ],
      "execution_count": null,
      "outputs": []
    },
    {
      "cell_type": "markdown",
      "metadata": {
        "id": "eQaZwEvuiRJH"
      },
      "source": [
        "## Preproceso"
      ]
    },
    {
      "cell_type": "markdown",
      "metadata": {
        "id": "KTvh27XRk1eU"
      },
      "source": [
        "### Transformación XML a CSV"
      ]
    },
    {
      "cell_type": "code",
      "metadata": {
        "id": "16zOtXnviHrZ"
      },
      "source": [
        "data_folder = 'train'\n",
        "\n",
        "# Proceso para guardar todos los datos de cada pais en un archivo CSV\n",
        "\n",
        "for sub_dir in os.listdir(data_folder):\n",
        "  xml_file = os.listdir(os.path.join(data_folder,sub_dir))\n",
        "  print(sub_dir)\n",
        "  file_name = sub_dir + '.csv'\n",
        "  field_names = ['text']    \n",
        "  file_csv = open(file_name, \"w\")\n",
        "  file_csv.write('text\\n')\n",
        "  for x_file in xml_file:\n",
        "    print(x_file)\n",
        "    f = open(os.path.join(data_folder,sub_dir,x_file), \"r\")\n",
        "    n=0\n",
        "    while(True):\n",
        "      n += 1\n",
        "      linea = f.readline()\n",
        "      # linea = linea.replace(\"\\n\", \"\")\n",
        "      if not linea:\n",
        "        break\n",
        "      file_csv.write(linea)\n",
        "  f.close()"
      ],
      "execution_count": null,
      "outputs": []
    },
    {
      "cell_type": "markdown",
      "metadata": {
        "id": "mrKymKBGlbKv"
      },
      "source": [
        "### Preparacion de datos de Train (Ya no se corre)"
      ]
    },
    {
      "cell_type": "code",
      "metadata": {
        "id": "VmOGL39lgcpW"
      },
      "source": [
        "# Colocamos todos los datos en un solo archivo con su respectivo pais\n",
        "\n",
        "# Leemos los csv\n",
        "argentina = pd.read_csv(\"/content/drive/MyDrive/ar.csv\")\n",
        "chile = pd.read_csv(\"/content/drive/MyDrive/cl.csv\")\n",
        "españa = pd.read_csv(\"/content/drive/MyDrive/es.csv\")\n",
        "mexico = pd.read_csv(\"/content/drive/MyDrive/mx.csv\")\n",
        "peru = pd.read_csv(\"/content/drive/MyDrive/pe.csv\")\n",
        "\n",
        "# Agregamos su pais\n",
        "argentina[\"country\"] = \"ar\"\n",
        "chile[\"country\"] = \"cl\"\n",
        "españa[\"country\"] = \"es\"\n",
        "mexico[\"country\"] = \"mx\"\n",
        "peru[\"country\"] = \"pe\"\n",
        "\n",
        "# Los guardamos en un solo dataframe\n",
        "all_texts = argentina\n",
        "all_texts = all_texts.append(chile, ignore_index = True)\n",
        "all_texts = all_texts.append(españa, ignore_index = True)\n",
        "all_texts = all_texts.append(mexico, ignore_index = True)\n",
        "all_texts = all_texts.append(peru, ignore_index = True)\n",
        "\n",
        "# Los guardamos en un archivo csv \n",
        "all_texts.to_csv(\"/content/drive/MyDrive/all_texts.csv\",index=False)"
      ],
      "execution_count": null,
      "outputs": []
    },
    {
      "cell_type": "code",
      "metadata": {
        "id": "ygc484QlvK27"
      },
      "source": [
        "# Carga de los datos\n",
        "all_texts = pd.read_csv(\"/content/drive/MyDrive/all_texts.csv\")"
      ],
      "execution_count": null,
      "outputs": []
    },
    {
      "cell_type": "code",
      "metadata": {
        "id": "WoVhdfuOm4dS"
      },
      "source": [
        "# Preproceso de los datos\n",
        "all_texts[\"text\"] = replace_characters(all_texts[\"text\"])\n",
        "all_texts[\"text_new\"] = replace_stopwords(all_texts[\"text\"])\n",
        "new_stopword = get_stopwords_paises(all_texts)\n",
        "all_texts[\"text_Train\"] = replace_stopwords(all_texts[\"text_new\"], new_stopword)"
      ],
      "execution_count": null,
      "outputs": []
    },
    {
      "cell_type": "code",
      "metadata": {
        "id": "2MgXcevBt9G2"
      },
      "source": [
        "# Guardamos los datos procesados en un archivo csv\n",
        "all_texts.to_csv(\"/content/drive/MyDrive/Texts_Train.csv\",index=False)"
      ],
      "execution_count": null,
      "outputs": []
    },
    {
      "cell_type": "markdown",
      "metadata": {
        "id": "CImA8AvOlyFS"
      },
      "source": [
        "### Preparacion de datos de Test (Ya no se corre)"
      ]
    },
    {
      "cell_type": "code",
      "metadata": {
        "id": "y3BAUdo4lhJA"
      },
      "source": [
        "# Colocamos todos los datos en un solo archivo con su respectivo pais\n",
        "\n",
        "# Leemos los csv\n",
        "argentina_test = pd.read_csv(\"/content/drive/MyDrive/ar_test.csv\")\n",
        "chile_test = pd.read_csv(\"/content/drive/MyDrive/cl_test.csv\")\n",
        "españa_test = pd.read_csv(\"/content/drive/MyDrive/es_test.csv\")\n",
        "mexico_test = pd.read_csv(\"/content/drive/MyDrive/mx_test.csv\")\n",
        "peru_test = pd.read_csv(\"/content/drive/MyDrive/pe_test.csv\")\n",
        "\n",
        "# Agregamos su pais\n",
        "argentina_test[\"country\"] = \"ar\"\n",
        "chile_test[\"country\"] = \"cl\"\n",
        "españa_test[\"country\"] = \"es\"\n",
        "mexico_test[\"country\"] = \"mx\"\n",
        "peru_test[\"country\"] = \"pe\"\n",
        "\n",
        "# Los guardamos en un solo dataframe\n",
        "all_texts_test = argentina_test\n",
        "all_texts_test = all_texts_test.append(chile_test, ignore_index = True)\n",
        "all_texts_test = all_texts_test.append(españa_test, ignore_index = True)\n",
        "all_texts_test = all_texts_test.append(mexico_test, ignore_index = True)\n",
        "all_texts_test = all_texts_test.append(peru_test, ignore_index = True)\n",
        "\n",
        "# Los guardamos en un archivo csv \n",
        "all_texts_test.to_csv(\"/content/drive/MyDrive/all_texts_test.csv\",index=False)"
      ],
      "execution_count": null,
      "outputs": []
    },
    {
      "cell_type": "code",
      "metadata": {
        "id": "vTyM5Y7XvcHa"
      },
      "source": [
        "# Carga de los datos\n",
        "all_texts_test = pd.read_csv(\"/content/drive/MyDrive/all_texts_test.csv\")"
      ],
      "execution_count": null,
      "outputs": []
    },
    {
      "cell_type": "code",
      "metadata": {
        "id": "b2JyHCd2uHZE"
      },
      "source": [
        "# Preproceso de los datos\n",
        "all_texts_test[\"text\"] = replace_characters(all_texts_test[\"text\"])\n",
        "all_texts_test[\"text_new\"] = replace_stopwords(all_texts_test[\"text\"])\n",
        "new_stopword = get_stopwords_paises(all_texts_test)\n",
        "all_texts_test[\"text_Test\"] = replace_stopwords(all_texts_test[\"text_new\"], new_stopword)"
      ],
      "execution_count": null,
      "outputs": []
    },
    {
      "cell_type": "code",
      "metadata": {
        "id": "peMu23dFuUUO"
      },
      "source": [
        "# Guardamos los datos procesados en un archivo csv\n",
        "all_texts_test.to_csv(\"/content/drive/MyDrive/Texts_Test.csv\",index=False)"
      ],
      "execution_count": null,
      "outputs": []
    },
    {
      "cell_type": "markdown",
      "metadata": {
        "id": "Y9pVg-hamwWY"
      },
      "source": [
        "## Tokenizing"
      ]
    },
    {
      "cell_type": "code",
      "metadata": {
        "id": "fOJrpk-4NozO"
      },
      "source": [
        "# Carga de los datos\n",
        "all_texts = pd.read_csv(\"/content/drive/MyDrive/all_texts.csv\")"
      ],
      "execution_count": null,
      "outputs": []
    },
    {
      "cell_type": "code",
      "metadata": {
        "id": "WiJ36ABzm250"
      },
      "source": [
        "# Preparamos el Tokenaizer con el archivo all_texts.csv para tener el mayor numero de palabras posible\n",
        "max_features = 10000\n",
        "tokenizer = Tokenizer(num_words=max_features, split=' ', oov_token = \"<OOV>\")\n",
        "tokenizer.fit_on_texts(all_texts[\"text_new\"].values)\n",
        "word_index = tokenizer.word_index"
      ],
      "execution_count": null,
      "outputs": []
    },
    {
      "cell_type": "markdown",
      "metadata": {
        "id": "zzw90KYlxbaa"
      },
      "source": [
        "## Proceso"
      ]
    },
    {
      "cell_type": "markdown",
      "metadata": {
        "id": "DFnD9m-8Jksn"
      },
      "source": [
        "### Split Train and Test"
      ]
    },
    {
      "cell_type": "code",
      "metadata": {
        "colab": {
          "base_uri": "https://localhost:8080/",
          "height": 597
        },
        "id": "b90kzoyox2hE",
        "outputId": "a05a526d-4fbc-4e85-ceee-284f595cfeb8"
      },
      "source": [
        "# Carga de los datos\n",
        "all_texts = pd.read_csv(\"/content/drive/MyDrive/Texts_Train.csv\")\n",
        "all_texts"
      ],
      "execution_count": null,
      "outputs": [
        {
          "output_type": "execute_result",
          "data": {
            "text/html": [
              "<div>\n",
              "<style scoped>\n",
              "    .dataframe tbody tr th:only-of-type {\n",
              "        vertical-align: middle;\n",
              "    }\n",
              "\n",
              "    .dataframe tbody tr th {\n",
              "        vertical-align: top;\n",
              "    }\n",
              "\n",
              "    .dataframe thead th {\n",
              "        text-align: right;\n",
              "    }\n",
              "</style>\n",
              "<table border=\"1\" class=\"dataframe\">\n",
              "  <thead>\n",
              "    <tr style=\"text-align: right;\">\n",
              "      <th></th>\n",
              "      <th>text</th>\n",
              "      <th>country</th>\n",
              "      <th>text_new</th>\n",
              "      <th>text_Train</th>\n",
              "    </tr>\n",
              "  </thead>\n",
              "  <tbody>\n",
              "    <tr>\n",
              "      <th>0</th>\n",
              "      <td>brother where art thou significo otro exito ba...</td>\n",
              "      <td>ar</td>\n",
              "      <td>brother where art thou significo exito basado ...</td>\n",
              "      <td>brother where art thou significo exito basado ...</td>\n",
              "    </tr>\n",
              "    <tr>\n",
              "      <th>1</th>\n",
              "      <td>carta kretina los furiosos fanaticos defensore...</td>\n",
              "      <td>ar</td>\n",
              "      <td>carta kretina furiosos fanaticos defensores mo...</td>\n",
              "      <td>carta kretina fanaticos defensores modelo cuba...</td>\n",
              "    </tr>\n",
              "    <tr>\n",
              "      <th>2</th>\n",
              "      <td>disculpen por esta reflexion discriminativa de...</td>\n",
              "      <td>ar</td>\n",
              "      <td>disculpen reflexion discriminativa genero creo...</td>\n",
              "      <td>disculpen reflexion discriminativa genero creo...</td>\n",
              "    </tr>\n",
              "    <tr>\n",
              "      <th>3</th>\n",
              "      <td>absorbentes sanitarios para gatos la diatomita...</td>\n",
              "      <td>ar</td>\n",
              "      <td>absorbentes sanitarios gatos diatomita tierra ...</td>\n",
              "      <td>absorbentes sanitarios gatos diatomita tierra ...</td>\n",
              "    </tr>\n",
              "    <tr>\n",
              "      <th>4</th>\n",
              "      <td>cuando una pareja decide terminar su vinculaci...</td>\n",
              "      <td>ar</td>\n",
              "      <td>cuando pareja decide terminar vinculacion vien...</td>\n",
              "      <td>cuando pareja decide terminar vinculacion vien...</td>\n",
              "    </tr>\n",
              "    <tr>\n",
              "      <th>...</th>\n",
              "      <td>...</td>\n",
              "      <td>...</td>\n",
              "      <td>...</td>\n",
              "      <td>...</td>\n",
              "    </tr>\n",
              "    <tr>\n",
              "      <th>22918</th>\n",
              "      <td>es que si en algun momento nos parecio haber v...</td>\n",
              "      <td>pe</td>\n",
              "      <td>es si algun momento parecio haber visto eva me...</td>\n",
              "      <td>es si algun momento parecio haber visto eva me...</td>\n",
              "    </tr>\n",
              "    <tr>\n",
              "      <th>22919</th>\n",
              "      <td>hola todos despues de ya muchos meses retomo l...</td>\n",
              "      <td>pe</td>\n",
              "      <td>hola despues meses retomo riendas blog siempre...</td>\n",
              "      <td>hola despues meses retomo riendas blog siempre...</td>\n",
              "    </tr>\n",
              "    <tr>\n",
              "      <th>22920</th>\n",
              "      <td>para quienes quienes quieren conocer mas de se...</td>\n",
              "      <td>pe</td>\n",
              "      <td>para quienes quieren conocer mas selena gomez ...</td>\n",
              "      <td>para quienes quieren conocer mas gomez nombre ...</td>\n",
              "    </tr>\n",
              "    <tr>\n",
              "      <th>22921</th>\n",
              "      <td>un dibujito que llama la atencion porque no pu...</td>\n",
              "      <td>pe</td>\n",
              "      <td>un dibujito llama atencion puedes evitar reirt...</td>\n",
              "      <td>un dibujito llama atencion puedes evitar reirt...</td>\n",
              "    </tr>\n",
              "    <tr>\n",
              "      <th>22922</th>\n",
              "      <td>hummm es que no hay palabra mal dicha sino mal...</td>\n",
              "      <td>pe</td>\n",
              "      <td>hummm palabra mal dicha sino mal interpretada ...</td>\n",
              "      <td>hummm palabra mal dicha sino mal interpretada ...</td>\n",
              "    </tr>\n",
              "  </tbody>\n",
              "</table>\n",
              "<p>22923 rows × 4 columns</p>\n",
              "</div>"
            ],
            "text/plain": [
              "                                                    text  ...                                         text_Train\n",
              "0      brother where art thou significo otro exito ba...  ...  brother where art thou significo exito basado ...\n",
              "1      carta kretina los furiosos fanaticos defensore...  ...  carta kretina fanaticos defensores modelo cuba...\n",
              "2      disculpen por esta reflexion discriminativa de...  ...  disculpen reflexion discriminativa genero creo...\n",
              "3      absorbentes sanitarios para gatos la diatomita...  ...  absorbentes sanitarios gatos diatomita tierra ...\n",
              "4      cuando una pareja decide terminar su vinculaci...  ...  cuando pareja decide terminar vinculacion vien...\n",
              "...                                                  ...  ...                                                ...\n",
              "22918  es que si en algun momento nos parecio haber v...  ...  es si algun momento parecio haber visto eva me...\n",
              "22919  hola todos despues de ya muchos meses retomo l...  ...  hola despues meses retomo riendas blog siempre...\n",
              "22920  para quienes quienes quieren conocer mas de se...  ...  para quienes quieren conocer mas gomez nombre ...\n",
              "22921  un dibujito que llama la atencion porque no pu...  ...  un dibujito llama atencion puedes evitar reirt...\n",
              "22922  hummm es que no hay palabra mal dicha sino mal...  ...  hummm palabra mal dicha sino mal interpretada ...\n",
              "\n",
              "[22923 rows x 4 columns]"
            ]
          },
          "metadata": {
            "tags": []
          },
          "execution_count": 54
        }
      ]
    },
    {
      "cell_type": "code",
      "metadata": {
        "id": "kH2l_xoThUto"
      },
      "source": [
        "# Split Train and Test\n",
        "X_train, X_val, y_train, y_val = train_test_split(all_texts[\"text_Train\"], all_texts[\"country\"], test_size=0.20, random_state=42)\n",
        "\n",
        "# Transformamos el texto a secuencia de datos numericos\n",
        "X_train_sequences = tokenizer.texts_to_sequences(X_train.values)\n",
        "\n",
        "# Agregamos un Padding para que obtengan el mismo tamaño\n",
        "X_train_padded = pad_sequences(X_train_sequences, padding='post', truncating='post', maxlen=60)\n",
        "\n",
        "# Transformamos el texto a secuencia de datos numericos\n",
        "X_val_sequences = tokenizer.texts_to_sequences(X_val.values)\n",
        "\n",
        "# Agregamos un Padding para que obtengan el mismo tamaño\n",
        "X_val_padded = pad_sequences(X_val_sequences, padding='post', truncating='post', maxlen=60)\n",
        "\n",
        "# Categorical values for labels\n",
        "y_train = pd.get_dummies(y_train).values\n",
        "y_val = pd.get_dummies(y_val).values"
      ],
      "execution_count": null,
      "outputs": []
    },
    {
      "cell_type": "markdown",
      "metadata": {
        "id": "-w_-EfhxyQrN"
      },
      "source": [
        "### MODEL"
      ]
    },
    {
      "cell_type": "code",
      "metadata": {
        "id": "hK_BKsMSviqf",
        "colab": {
          "base_uri": "https://localhost:8080/"
        },
        "outputId": "3abcc740-248c-4441-f5cd-3769b4090d99"
      },
      "source": [
        "# Creamos el modelo\n",
        "embedding_dim = 64\n",
        "model = Sequential()\n",
        "model.add(Embedding(max_features, embedding_dim, input_length=X_train_padded.shape[1]),)\n",
        "model.add(Bidirectional(LSTM(50)))\n",
        "model.add(Dense(5, activation='softmax'))\n",
        "\n",
        "# Compilamos el modelo\n",
        "model.compile(loss='binary_crossentropy',optimizer='adam',metrics=['accuracy'])\n",
        "model.summary()"
      ],
      "execution_count": null,
      "outputs": [
        {
          "output_type": "stream",
          "text": [
            "Model: \"sequential_3\"\n",
            "_________________________________________________________________\n",
            "Layer (type)                 Output Shape              Param #   \n",
            "=================================================================\n",
            "embedding_3 (Embedding)      (None, 60, 64)            640000    \n",
            "_________________________________________________________________\n",
            "bidirectional_3 (Bidirection (None, 100)               46000     \n",
            "_________________________________________________________________\n",
            "dense_3 (Dense)              (None, 5)                 505       \n",
            "=================================================================\n",
            "Total params: 686,505\n",
            "Trainable params: 686,505\n",
            "Non-trainable params: 0\n",
            "_________________________________________________________________\n"
          ],
          "name": "stdout"
        }
      ]
    },
    {
      "cell_type": "code",
      "metadata": {
        "colab": {
          "base_uri": "https://localhost:8080/"
        },
        "id": "8GSnw2D1CFzQ",
        "outputId": "8bd386ec-829e-42f7-cd4c-4d819f0ba1ef"
      },
      "source": [
        "# Model Training\n",
        "num_epochs = 5\n",
        "history = model.fit(X_train_padded, y_train, validation_data=(X_val_padded, y_val), epochs=num_epochs, batch_size=32, verbose=2)"
      ],
      "execution_count": null,
      "outputs": [
        {
          "output_type": "stream",
          "text": [
            "Epoch 1/5\n",
            "574/574 - 12s - loss: 0.4862 - accuracy: 0.3006 - val_loss: 0.4691 - val_accuracy: 0.3832\n",
            "Epoch 2/5\n",
            "574/574 - 9s - loss: 0.3858 - accuracy: 0.5354 - val_loss: 0.3780 - val_accuracy: 0.5518\n",
            "Epoch 3/5\n",
            "574/574 - 8s - loss: 0.2676 - accuracy: 0.7175 - val_loss: 0.3959 - val_accuracy: 0.5592\n",
            "Epoch 4/5\n",
            "574/574 - 8s - loss: 0.1941 - accuracy: 0.8104 - val_loss: 0.4260 - val_accuracy: 0.5544\n",
            "Epoch 5/5\n",
            "574/574 - 8s - loss: 0.1381 - accuracy: 0.8760 - val_loss: 0.4825 - val_accuracy: 0.5477\n"
          ],
          "name": "stdout"
        }
      ]
    },
    {
      "cell_type": "code",
      "metadata": {
        "colab": {
          "base_uri": "https://localhost:8080/",
          "height": 546
        },
        "id": "2EfCxgACT2tb",
        "outputId": "09a1e274-3a90-4d8d-9b97-de62e129005a"
      },
      "source": [
        "# Graficamos\n",
        "plot_graphs(history, \"accuracy\")\n",
        "plot_graphs(history, \"loss\")"
      ],
      "execution_count": null,
      "outputs": [
        {
          "output_type": "display_data",
          "data": {
            "image/png": "[encoded data removed]",
            "text/plain": [
              "<Figure size 432x288 with 1 Axes>"
            ]
          },
          "metadata": {
            "tags": [],
            "needs_background": "light"
          }
        },
        {
          "output_type": "display_data",
          "data": {
            "image/png": "[encoded data removed]",
            "text/plain": [
              "<Figure size 432x288 with 1 Axes>"
            ]
          },
          "metadata": {
            "tags": [],
            "needs_background": "light"
          }
        }
      ]
    },
    {
      "cell_type": "markdown",
      "metadata": {
        "id": "y3YNZP_V7iII"
      },
      "source": [
        "## Predict"
      ]
    },
    {
      "cell_type": "code",
      "metadata": {
        "colab": {
          "base_uri": "https://localhost:8080/",
          "height": 597
        },
        "id": "y1vzC1C91rNX",
        "outputId": "820bf3cc-ef55-4454-e07c-8610054a4c3f"
      },
      "source": [
        "# Carga de los datos\n",
        "all_texts_test = pd.read_csv(\"/content/drive/MyDrive/Texts_Test.csv\")\n",
        "all_texts_test"
      ],
      "execution_count": null,
      "outputs": [
        {
          "output_type": "execute_result",
          "data": {
            "text/html": [
              "<div>\n",
              "<style scoped>\n",
              "    .dataframe tbody tr th:only-of-type {\n",
              "        vertical-align: middle;\n",
              "    }\n",
              "\n",
              "    .dataframe tbody tr th {\n",
              "        vertical-align: top;\n",
              "    }\n",
              "\n",
              "    .dataframe thead th {\n",
              "        text-align: right;\n",
              "    }\n",
              "</style>\n",
              "<table border=\"1\" class=\"dataframe\">\n",
              "  <thead>\n",
              "    <tr style=\"text-align: right;\">\n",
              "      <th></th>\n",
              "      <th>text</th>\n",
              "      <th>country</th>\n",
              "      <th>text_new</th>\n",
              "      <th>text_Test</th>\n",
              "    </tr>\n",
              "  </thead>\n",
              "  <tbody>\n",
              "    <tr>\n",
              "      <th>0</th>\n",
              "      <td>la dgcye informo que el de noviembre abonara l...</td>\n",
              "      <td>ar</td>\n",
              "      <td>la dgcye informo noviembre abonara haberes doc...</td>\n",
              "      <td>la dgcye informo noviembre abonara haberes doc...</td>\n",
              "    </tr>\n",
              "    <tr>\n",
              "      <th>1</th>\n",
              "      <td>por medio del presente se informa que el dia d...</td>\n",
              "      <td>ar</td>\n",
              "      <td>por medio presente informa dia noviembre corri...</td>\n",
              "      <td>por medio presente informa dia noviembre corri...</td>\n",
              "    </tr>\n",
              "    <tr>\n",
              "      <th>2</th>\n",
              "      <td>lunes asambleas acciones distritales convocada...</td>\n",
              "      <td>ar</td>\n",
              "      <td>lunes asambleas acciones distritales convocada...</td>\n",
              "      <td>lunes acciones distritales convocadas udocba m...</td>\n",
              "    </tr>\n",
              "    <tr>\n",
              "      <th>3</th>\n",
              "      <td>mediante la resolucion se establecen las pauta...</td>\n",
              "      <td>ar</td>\n",
              "      <td>mediante resolucion establecen pautas renovaci...</td>\n",
              "      <td>mediante resolucion establecen pautas renovaci...</td>\n",
              "    </tr>\n",
              "    <tr>\n",
              "      <th>4</th>\n",
              "      <td>accede al material de trabajo para la jornada ...</td>\n",
              "      <td>ar</td>\n",
              "      <td>accede material trabajo jornada noviembre haci...</td>\n",
              "      <td>accede material trabajo jornada noviembre haci...</td>\n",
              "    </tr>\n",
              "    <tr>\n",
              "      <th>...</th>\n",
              "      <td>...</td>\n",
              "      <td>...</td>\n",
              "      <td>...</td>\n",
              "      <td>...</td>\n",
              "    </tr>\n",
              "    <tr>\n",
              "      <th>9173</th>\n",
              "      <td>el ha sido un año intenso para la cinematograf...</td>\n",
              "      <td>pe</td>\n",
              "      <td>el sido año intenso cinematografia peruana mas...</td>\n",
              "      <td>el sido año intenso cinematografia peruana mas...</td>\n",
              "    </tr>\n",
              "    <tr>\n",
              "      <th>9174</th>\n",
              "      <td>el ministerio de cultura ha dado conocer los r...</td>\n",
              "      <td>pe</td>\n",
              "      <td>el ministerio cultura dado conocer resultados ...</td>\n",
              "      <td>el ministerio cultura dado conocer resultados ...</td>\n",
              "    </tr>\n",
              "    <tr>\n",
              "      <th>9175</th>\n",
              "      <td>el ministerio de cultura ha dado conocer el re...</td>\n",
              "      <td>pe</td>\n",
              "      <td>el ministerio cultura dado conocer resultado c...</td>\n",
              "      <td>el ministerio cultura dado conocer resultado c...</td>\n",
              "    </tr>\n",
              "    <tr>\n",
              "      <th>9176</th>\n",
              "      <td>la encuesta que todos los años realizamos en e...</td>\n",
              "      <td>pe</td>\n",
              "      <td>la encuesta años realizamos blog llego fin ama...</td>\n",
              "      <td>la encuesta años realizamos blog llego fin lec...</td>\n",
              "    </tr>\n",
              "    <tr>\n",
              "      <th>9177</th>\n",
              "      <td>por diferentes motivos este año ha sido de tra...</td>\n",
              "      <td>pe</td>\n",
              "      <td>por diferentes motivos año sido transito movim...</td>\n",
              "      <td>por diferentes motivos año sido transito movim...</td>\n",
              "    </tr>\n",
              "  </tbody>\n",
              "</table>\n",
              "<p>9178 rows × 4 columns</p>\n",
              "</div>"
            ],
            "text/plain": [
              "                                                   text  ...                                          text_Test\n",
              "0     la dgcye informo que el de noviembre abonara l...  ...  la dgcye informo noviembre abonara haberes doc...\n",
              "1     por medio del presente se informa que el dia d...  ...  por medio presente informa dia noviembre corri...\n",
              "2     lunes asambleas acciones distritales convocada...  ...  lunes acciones distritales convocadas udocba m...\n",
              "3     mediante la resolucion se establecen las pauta...  ...  mediante resolucion establecen pautas renovaci...\n",
              "4     accede al material de trabajo para la jornada ...  ...  accede material trabajo jornada noviembre haci...\n",
              "...                                                 ...  ...                                                ...\n",
              "9173  el ha sido un año intenso para la cinematograf...  ...  el sido año intenso cinematografia peruana mas...\n",
              "9174  el ministerio de cultura ha dado conocer los r...  ...  el ministerio cultura dado conocer resultados ...\n",
              "9175  el ministerio de cultura ha dado conocer el re...  ...  el ministerio cultura dado conocer resultado c...\n",
              "9176  la encuesta que todos los años realizamos en e...  ...  la encuesta años realizamos blog llego fin lec...\n",
              "9177  por diferentes motivos este año ha sido de tra...  ...  por diferentes motivos año sido transito movim...\n",
              "\n",
              "[9178 rows x 4 columns]"
            ]
          },
          "metadata": {
            "tags": []
          },
          "execution_count": 10
        }
      ]
    },
    {
      "cell_type": "code",
      "metadata": {
        "id": "rhdkUKsYVw29"
      },
      "source": [
        "model = load_model('/content/drive/MyDrive/bidirectional_model.h5')"
      ],
      "execution_count": null,
      "outputs": []
    },
    {
      "cell_type": "code",
      "metadata": {
        "id": "rX0awNfl8RG7",
        "colab": {
          "base_uri": "https://localhost:8080/",
          "height": 615
        },
        "outputId": "c9bb4120-e8a2-47f3-db71-80b1426edf58"
      },
      "source": [
        "# Transformamos el texto a secuencia de datos numericos\n",
        "X_test_sequences = tokenizer.texts_to_sequences(all_texts_test[\"text\"].values)\n",
        "\n",
        "# Agregamos un Padding para que obtengan el mismo tamaño\n",
        "X_test_padded = pad_sequences(X_test_sequences, padding='post', truncating='post', maxlen=60)\n",
        "\n",
        "# Hacemos las predicciones del modelo para probarlo\n",
        "predictions = model.predict(X_test_padded)\n",
        "\n",
        "# Obtenemos el indice del valor mas alto (mas cercano a 1)\n",
        "all_texts_test[\"predictions\"] = [np.argmax(x) for x in predictions]\n",
        "\n",
        "# Iniciamos un diccionario donde la llave representa el pais al que hace referencia el indice guardado preciamente\n",
        "countries = {\n",
        "    \"ar\":0,\n",
        "    \"cl\":1,\n",
        "    \"es\":2,\n",
        "    \"mx\":3,\n",
        "    \"pe\":4\n",
        "}\n",
        "\n",
        "# Colocamos la predicción a cada texto\n",
        "all_texts_test[\"country_label\"] = [countries[x] for x in all_texts_test[\"country\"]]\n",
        "all_texts_test"
      ],
      "execution_count": null,
      "outputs": [
        {
          "output_type": "execute_result",
          "data": {
            "text/html": [
              "<div>\n",
              "<style scoped>\n",
              "    .dataframe tbody tr th:only-of-type {\n",
              "        vertical-align: middle;\n",
              "    }\n",
              "\n",
              "    .dataframe tbody tr th {\n",
              "        vertical-align: top;\n",
              "    }\n",
              "\n",
              "    .dataframe thead th {\n",
              "        text-align: right;\n",
              "    }\n",
              "</style>\n",
              "<table border=\"1\" class=\"dataframe\">\n",
              "  <thead>\n",
              "    <tr style=\"text-align: right;\">\n",
              "      <th></th>\n",
              "      <th>text</th>\n",
              "      <th>country</th>\n",
              "      <th>text_new</th>\n",
              "      <th>text_Test</th>\n",
              "      <th>predictions</th>\n",
              "      <th>country_label</th>\n",
              "    </tr>\n",
              "  </thead>\n",
              "  <tbody>\n",
              "    <tr>\n",
              "      <th>0</th>\n",
              "      <td>la dgcye informo que el de noviembre abonara l...</td>\n",
              "      <td>ar</td>\n",
              "      <td>la dgcye informo noviembre abonara haberes doc...</td>\n",
              "      <td>la dgcye informo noviembre abonara haberes doc...</td>\n",
              "      <td>3</td>\n",
              "      <td>0</td>\n",
              "    </tr>\n",
              "    <tr>\n",
              "      <th>1</th>\n",
              "      <td>por medio del presente se informa que el dia d...</td>\n",
              "      <td>ar</td>\n",
              "      <td>por medio presente informa dia noviembre corri...</td>\n",
              "      <td>por medio presente informa dia noviembre corri...</td>\n",
              "      <td>3</td>\n",
              "      <td>0</td>\n",
              "    </tr>\n",
              "    <tr>\n",
              "      <th>2</th>\n",
              "      <td>lunes asambleas acciones distritales convocada...</td>\n",
              "      <td>ar</td>\n",
              "      <td>lunes asambleas acciones distritales convocada...</td>\n",
              "      <td>lunes acciones distritales convocadas udocba m...</td>\n",
              "      <td>0</td>\n",
              "      <td>0</td>\n",
              "    </tr>\n",
              "    <tr>\n",
              "      <th>3</th>\n",
              "      <td>mediante la resolucion se establecen las pauta...</td>\n",
              "      <td>ar</td>\n",
              "      <td>mediante resolucion establecen pautas renovaci...</td>\n",
              "      <td>mediante resolucion establecen pautas renovaci...</td>\n",
              "      <td>1</td>\n",
              "      <td>0</td>\n",
              "    </tr>\n",
              "    <tr>\n",
              "      <th>4</th>\n",
              "      <td>accede al material de trabajo para la jornada ...</td>\n",
              "      <td>ar</td>\n",
              "      <td>accede material trabajo jornada noviembre haci...</td>\n",
              "      <td>accede material trabajo jornada noviembre haci...</td>\n",
              "      <td>0</td>\n",
              "      <td>0</td>\n",
              "    </tr>\n",
              "    <tr>\n",
              "      <th>...</th>\n",
              "      <td>...</td>\n",
              "      <td>...</td>\n",
              "      <td>...</td>\n",
              "      <td>...</td>\n",
              "      <td>...</td>\n",
              "      <td>...</td>\n",
              "    </tr>\n",
              "    <tr>\n",
              "      <th>9173</th>\n",
              "      <td>el ha sido un año intenso para la cinematograf...</td>\n",
              "      <td>pe</td>\n",
              "      <td>el sido año intenso cinematografia peruana mas...</td>\n",
              "      <td>el sido año intenso cinematografia peruana mas...</td>\n",
              "      <td>4</td>\n",
              "      <td>4</td>\n",
              "    </tr>\n",
              "    <tr>\n",
              "      <th>9174</th>\n",
              "      <td>el ministerio de cultura ha dado conocer los r...</td>\n",
              "      <td>pe</td>\n",
              "      <td>el ministerio cultura dado conocer resultados ...</td>\n",
              "      <td>el ministerio cultura dado conocer resultados ...</td>\n",
              "      <td>4</td>\n",
              "      <td>4</td>\n",
              "    </tr>\n",
              "    <tr>\n",
              "      <th>9175</th>\n",
              "      <td>el ministerio de cultura ha dado conocer el re...</td>\n",
              "      <td>pe</td>\n",
              "      <td>el ministerio cultura dado conocer resultado c...</td>\n",
              "      <td>el ministerio cultura dado conocer resultado c...</td>\n",
              "      <td>4</td>\n",
              "      <td>4</td>\n",
              "    </tr>\n",
              "    <tr>\n",
              "      <th>9176</th>\n",
              "      <td>la encuesta que todos los años realizamos en e...</td>\n",
              "      <td>pe</td>\n",
              "      <td>la encuesta años realizamos blog llego fin ama...</td>\n",
              "      <td>la encuesta años realizamos blog llego fin lec...</td>\n",
              "      <td>4</td>\n",
              "      <td>4</td>\n",
              "    </tr>\n",
              "    <tr>\n",
              "      <th>9177</th>\n",
              "      <td>por diferentes motivos este año ha sido de tra...</td>\n",
              "      <td>pe</td>\n",
              "      <td>por diferentes motivos año sido transito movim...</td>\n",
              "      <td>por diferentes motivos año sido transito movim...</td>\n",
              "      <td>4</td>\n",
              "      <td>4</td>\n",
              "    </tr>\n",
              "  </tbody>\n",
              "</table>\n",
              "<p>9178 rows × 6 columns</p>\n",
              "</div>"
            ],
            "text/plain": [
              "                                                   text  ... country_label\n",
              "0     la dgcye informo que el de noviembre abonara l...  ...             0\n",
              "1     por medio del presente se informa que el dia d...  ...             0\n",
              "2     lunes asambleas acciones distritales convocada...  ...             0\n",
              "3     mediante la resolucion se establecen las pauta...  ...             0\n",
              "4     accede al material de trabajo para la jornada ...  ...             0\n",
              "...                                                 ...  ...           ...\n",
              "9173  el ha sido un año intenso para la cinematograf...  ...             4\n",
              "9174  el ministerio de cultura ha dado conocer los r...  ...             4\n",
              "9175  el ministerio de cultura ha dado conocer el re...  ...             4\n",
              "9176  la encuesta que todos los años realizamos en e...  ...             4\n",
              "9177  por diferentes motivos este año ha sido de tra...  ...             4\n",
              "\n",
              "[9178 rows x 6 columns]"
            ]
          },
          "metadata": {
            "tags": []
          },
          "execution_count": 14
        }
      ]
    },
    {
      "cell_type": "code",
      "metadata": {
        "colab": {
          "base_uri": "https://localhost:8080/"
        },
        "id": "997iN6LJFf69",
        "outputId": "faccbd4e-241a-4131-82a7-9c23086192ee"
      },
      "source": [
        "# Obtenemos el acuraccy\n",
        "from sklearn.metrics import accuracy_score\n",
        "accuracy_score(all_texts_test[\"country_label\"], all_texts_test[\"predictions\"])"
      ],
      "execution_count": null,
      "outputs": [
        {
          "output_type": "execute_result",
          "data": {
            "text/plain": [
              "0.39529309217694486"
            ]
          },
          "metadata": {
            "tags": []
          },
          "execution_count": 15
        }
      ]
    },
    {
      "cell_type": "code",
      "metadata": {
        "colab": {
          "base_uri": "https://localhost:8080/"
        },
        "id": "gxCw4nmF6vnT",
        "outputId": "7e762b5e-2e6d-44da-d770-4fdce5bbc549"
      },
      "source": [
        "# Obtenemos la confusion matrix\n",
        "from sklearn.metrics import confusion_matrix\n",
        "import seaborn as sns\n",
        "cf_matrix = confusion_matrix(all_texts_test[\"country_label\"],all_texts_test[\"predictions\"])\n",
        "cf_matrix"
      ],
      "execution_count": null,
      "outputs": [
        {
          "output_type": "execute_result",
          "data": {
            "text/plain": [
              "array([[850, 439, 287, 218,  99],\n",
              "       [335, 886, 186, 174,  70],\n",
              "       [425, 379, 753, 257,  75],\n",
              "       [443, 408, 287, 662, 111],\n",
              "       [444, 434, 205, 274, 477]])"
            ]
          },
          "metadata": {
            "tags": []
          },
          "execution_count": 16
        }
      ]
    },
    {
      "cell_type": "code",
      "metadata": {
        "colab": {
          "base_uri": "https://localhost:8080/",
          "height": 446
        },
        "id": "6BvlHUYYCO7S",
        "outputId": "27d29577-5a70-49c0-d381-bcb0771ca135"
      },
      "source": [
        "# Graficamos la confusion matrix\n",
        "# Entre mas claro mejor\n",
        "import seaborn as sn\n",
        "import pandas as pd\n",
        "import matplotlib.pyplot as plt\n",
        "df_cm = pd.DataFrame(cf_matrix, index = [i for i in \"01234\"],\n",
        "                  columns = [i for i in \"01234\"])\n",
        "plt.figure(figsize = (10,7))\n",
        "sn.heatmap(df_cm, annot=True)"
      ],
      "execution_count": null,
      "outputs": [
        {
          "output_type": "execute_result",
          "data": {
            "text/plain": [
              "<matplotlib.axes._subplots.AxesSubplot at 0x7f67191c8510>"
            ]
          },
          "metadata": {
            "tags": []
          },
          "execution_count": 17
        },
        {
          "output_type": "display_data",
          "data": {
            "image/png": "[encoded data removed]",
            "text/plain": [
              "<Figure size 720x504 with 2 Axes>"
            ]
          },
          "metadata": {
            "tags": [],
            "needs_background": "light"
          }
        }
      ]
    },
    {
      "cell_type": "code",
      "metadata": {
        "id": "XGRTckX5fVmX"
      },
      "source": [
        "# Guardar el Modelo\n",
        "model.save('/content/drive/MyDrive/PIA IAP/bidirectional_model.h5')"
      ],
      "execution_count": null,
      "outputs": []
    }
  ]
}